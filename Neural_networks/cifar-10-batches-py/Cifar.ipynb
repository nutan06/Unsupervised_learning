{
 "cells": [
  {
   "cell_type": "code",
   "execution_count": 1,
   "metadata": {
    "collapsed": false
   },
   "outputs": [],
   "source": [
    "import numpy as np\n",
    "import matplotlib.pyplot as plt\n",
    "import pandas as pd\n",
    "from sklearn.feature_extraction import image\n",
    "from sklearn.neural_network import BernoulliRBM\n",
    "\n",
    "%matplotlib inline"
   ]
  },
  {
   "cell_type": "code",
   "execution_count": 2,
   "metadata": {
    "collapsed": true
   },
   "outputs": [],
   "source": [
    "def unpickle(file):\n",
    "    import pickle\n",
    "    with open(file, 'rb') as fo:\n",
    "        dict = pickle.load(fo, encoding='bytes')\n",
    "    return dict"
   ]
  },
  {
   "cell_type": "code",
   "execution_count": 3,
   "metadata": {
    "collapsed": true
   },
   "outputs": [],
   "source": [
    "dict = unpickle('data/data_batch_1');"
   ]
  },
  {
   "cell_type": "code",
   "execution_count": 4,
   "metadata": {
    "collapsed": false
   },
   "outputs": [
    {
     "data": {
      "text/plain": [
       "dict_keys([b'batch_label', b'labels', b'data', b'filenames'])"
      ]
     },
     "execution_count": 4,
     "metadata": {},
     "output_type": "execute_result"
    }
   ],
   "source": [
    "dict.keys()"
   ]
  },
  {
   "cell_type": "code",
   "execution_count": 14,
   "metadata": {
    "collapsed": false
   },
   "outputs": [
    {
     "data": {
      "text/plain": [
       "b'train'"
      ]
     },
     "execution_count": 14,
     "metadata": {},
     "output_type": "execute_result"
    }
   ],
   "source": [
    "dict[b'batch_label'][:5]"
   ]
  },
  {
   "cell_type": "code",
   "execution_count": 5,
   "metadata": {
    "collapsed": false
   },
   "outputs": [
    {
     "data": {
      "text/plain": [
       "(10000, 3072)"
      ]
     },
     "execution_count": 5,
     "metadata": {},
     "output_type": "execute_result"
    }
   ],
   "source": [
    "dict[b'data'].shape"
   ]
  },
  {
   "cell_type": "code",
   "execution_count": 6,
   "metadata": {
    "collapsed": false
   },
   "outputs": [
    {
     "data": {
      "text/plain": [
       "(20, 3072)"
      ]
     },
     "execution_count": 6,
     "metadata": {},
     "output_type": "execute_result"
    }
   ],
   "source": [
    "data = dict[b'data']\n",
    "data[:20, :].shape"
   ]
  },
  {
   "cell_type": "code",
   "execution_count": 8,
   "metadata": {
    "collapsed": false
   },
   "outputs": [
    {
     "data": {
      "text/plain": [
       "array([[ 59,  43,  50,  68,  98, 119, 139, 145, 149, 149, 131, 125, 142,\n",
       "        144, 137, 129, 137, 134, 124, 139],\n",
       "       [154, 126, 105, 102, 125, 155, 172, 180, 142, 111, 106, 109, 123,\n",
       "        127, 181, 217, 209, 166, 164, 158],\n",
       "       [255, 253, 253, 253, 253, 253, 253, 253, 253, 253, 253, 253, 253,\n",
       "        253, 253, 254, 245, 226, 244, 241],\n",
       "       [ 28,  37,  38,  42,  44,  40,  40,  24,  32,  43,  30,  32,  41,\n",
       "         52,  67,  50,  44,  43,  38,  38],\n",
       "       [170, 168, 177, 183, 181, 177, 181, 184, 189, 189, 188, 183, 182,\n",
       "        184, 184, 180, 177, 177, 177, 176]], dtype=uint8)"
      ]
     },
     "execution_count": 8,
     "metadata": {},
     "output_type": "execute_result"
    }
   ],
   "source": [
    "data[:5, :20]"
   ]
  },
  {
   "cell_type": "code",
   "execution_count": 12,
   "metadata": {
    "collapsed": false
   },
   "outputs": [
    {
     "data": {
      "text/plain": [
       "[6, 9, 9, 4, 1]"
      ]
     },
     "execution_count": 12,
     "metadata": {},
     "output_type": "execute_result"
    }
   ],
   "source": [
    "labels = dict[b'labels']\n",
    "labels[:5]"
   ]
  },
  {
   "cell_type": "code",
   "execution_count": 13,
   "metadata": {
    "collapsed": false
   },
   "outputs": [
    {
     "data": {
      "text/plain": [
       "MLPClassifier(activation='logistic', alpha=0.0001, batch_size='auto',\n",
       "       beta_1=0.9, beta_2=0.999, early_stopping=False, epsilon=1e-08,\n",
       "       hidden_layer_sizes=(1000,), learning_rate='constant',\n",
       "       learning_rate_init=0.001, max_iter=200, momentum=0.9,\n",
       "       nesterovs_momentum=True, power_t=0.5, random_state=None,\n",
       "       shuffle=True, solver='adam', tol=0.0001, validation_fraction=0.1,\n",
       "       verbose=False, warm_start=False)"
      ]
     },
     "execution_count": 13,
     "metadata": {},
     "output_type": "execute_result"
    }
   ],
   "source": [
    "# Try to use MLP\n",
    "from sklearn.neural_network import MLPClassifier\n",
    "\n",
    "//use cross val to split the data\n",
    "\n",
    "X_train = data[:200, :]\n",
    "y_train = labels[:200]\n",
    "\n",
    "X_test = data[200:300, :]\n",
    "y_test = labels[200:300]\n",
    "\n",
    "# Establish and fit the model, with a single, 1000 perceptron layer.\n",
    "mlp = MLPClassifier(hidden_layer_sizes=(3072,), activation='logistic')\n",
    "mlp.fit(X_train, y_train)\n",
    "\n",
    "y_pred = mlp.predict(X_test)\n",
    "\n",
    "\n",
    "//calculate the accuracy\n",
    "\n"
   ]
  },
  {
   "cell_type": "code",
   "execution_count": 26,
   "metadata": {
    "collapsed": false
   },
   "outputs": [
    {
     "data": {
      "image/png": "[encoded data removed]",
      "text/plain": [
       "<matplotlib.figure.Figure at 0x117233c50>"
      ]
     },
     "metadata": {},
     "output_type": "display_data"
    }
   ],
   "source": [
    "rgb_img = np.reshape(data[3],(32, 32, 3), order='F')\n",
    "\n",
    "plt.plot()\n",
    "plt.title('Figure 1 : RGB Image')\n",
    "plt.imshow(rgb_img, interpolation='nearest');"
   ]
  },
  {
   "cell_type": "code",
   "execution_count": 38,
   "metadata": {
    "collapsed": true
   },
   "outputs": [],
   "source": [
    "patches = image.extract_patches_2d(rgb_img, (3, 3))"
   ]
  },
  {
   "cell_type": "code",
   "execution_count": 35,
   "metadata": {
    "collapsed": false
   },
   "outputs": [
    {
     "data": {
      "text/plain": [
       "(961, 2, 2, 3)"
      ]
     },
     "execution_count": 35,
     "metadata": {},
     "output_type": "execute_result"
    }
   ],
   "source": [
    "patches.shape"
   ]
  },
  {
   "cell_type": "code",
   "execution_count": 39,
   "metadata": {
    "collapsed": true
   },
   "outputs": [],
   "source": [
    "reconstructed = image.reconstruct_from_patches_2d(patches, (32, 32, 3))"
   ]
  },
  {
   "cell_type": "code",
   "execution_count": 40,
   "metadata": {
    "collapsed": false
   },
   "outputs": [
    {
     "data": {
      "image/png": "[encoded data removed]",
      "text/plain": [
       "<matplotlib.figure.Figure at 0x1170cca58>"
      ]
     },
     "metadata": {},
     "output_type": "display_data"
    }
   ],
   "source": [
    "plt.plot()\n",
    "plt.title('Figure 1 : RGB Image')\n",
    "plt.imshow(reconstructed, interpolation='nearest');"
   ]
  },
  {
   "cell_type": "code",
   "execution_count": 45,
   "metadata": {
    "collapsed": false
   },
   "outputs": [
    {
     "name": "stdout",
     "output_type": "stream",
     "text": [
      "[6, 9, 9, 4, 1, 1, 2, 7, 8, 3]\n"
     ]
    }
   ],
   "source": [
    "labels = dict[b'labels']\n",
    "print(labels[:10])"
   ]
  },
  {
   "cell_type": "code",
   "execution_count": 51,
   "metadata": {
    "collapsed": false
   },
   "outputs": [
    {
     "data": {
      "text/plain": [
       "BernoulliRBM(batch_size=10, learning_rate=0.1, n_components=4, n_iter=50,\n",
       "       random_state=None, verbose=0)"
      ]
     },
     "execution_count": 51,
     "metadata": {},
     "output_type": "execute_result"
    }
   ],
   "source": [
    "rbm = BernoulliRBM(n_components=4, learning_rate=0.1, n_iter=50)\n",
    "rbm.fit(data[:200, :], labels[:200])"
   ]
  },
  {
   "cell_type": "code",
   "execution_count": 52,
   "metadata": {
    "collapsed": false
   },
   "outputs": [
    {
     "data": {
      "text/plain": [
       "array([ -4.04165125e+09,  -1.72520162e+09,  -0.00000000e+00,\n",
       "        -2.35687343e+10,  -2.63900679e+10,  -2.90489920e+10,\n",
       "        -2.28469523e+10,  -0.00000000e+00,  -0.00000000e+00,\n",
       "        -2.82911901e+10,  -2.36190824e+10,  -0.00000000e+00,\n",
       "        -9.69445798e+09,  -3.08965834e+10,  -2.81832599e+10,\n",
       "        -1.25051672e+10,  -8.21741082e+09,  -1.09190086e+10,\n",
       "        -0.00000000e+00,  -1.97708279e+10,  -0.00000000e+00,\n",
       "        -3.50608305e+10,  -1.18589264e+10,  -0.00000000e+00,\n",
       "        -1.18596101e+10,  -0.00000000e+00,  -1.12737972e+10,\n",
       "        -2.90757535e+10,  -1.41571000e+09,  -0.00000000e+00,\n",
       "        -0.00000000e+00,  -2.50389439e+10,  -2.76087662e+10,\n",
       "        -2.96602851e+09,  -2.04428284e+10,  -0.00000000e+00,\n",
       "        -0.00000000e+00,  -1.48979711e+09,  -0.00000000e+00,\n",
       "        -5.30588889e+09,  -0.00000000e+00,  -0.00000000e+00,\n",
       "        -6.09637098e+09,  -2.12746637e+10,  -1.03826372e+09,\n",
       "        -2.46138272e+09,  -1.71656553e+10,  -1.15864483e+10,\n",
       "        -0.00000000e+00,  -0.00000000e+00,  -0.00000000e+00,\n",
       "        -1.98288415e+10,  -2.62467607e+10,  -0.00000000e+00,\n",
       "        -2.58391897e+10,  -2.35947176e+10,  -2.65911794e+10,\n",
       "        -2.59915523e+10,  -2.21937273e+09,  -0.00000000e+00,\n",
       "        -3.28297242e+09,  -2.16461225e+10,  -0.00000000e+00,\n",
       "        -0.00000000e+00,  -1.77943126e+10,  -3.30052002e+10,\n",
       "        -0.00000000e+00,  -0.00000000e+00,  -2.33938368e+10,\n",
       "        -0.00000000e+00,  -2.62092072e+09,  -1.71863031e+10,\n",
       "        -1.85688077e+10,  -2.36231947e+09,  -0.00000000e+00,\n",
       "        -0.00000000e+00,  -5.50674460e+09,  -1.95347196e+10,\n",
       "        -0.00000000e+00,  -0.00000000e+00,  -4.83527550e+09,\n",
       "        -1.86030235e+10,  -1.18376252e+10,  -0.00000000e+00,\n",
       "        -3.74158056e+09,  -1.00215558e+10,  -8.27951317e+09,\n",
       "        -2.40533022e+10,  -3.59839838e+09,  -8.23861320e+09,\n",
       "        -2.51922971e+10,  -0.00000000e+00,  -0.00000000e+00,\n",
       "        -1.00077491e+10,  -2.37579374e+10,  -0.00000000e+00,\n",
       "        -3.71084135e+10,  -0.00000000e+00,  -1.54352787e+10,\n",
       "        -2.73424769e+10,  -0.00000000e+00,  -0.00000000e+00,\n",
       "        -0.00000000e+00,  -2.50599410e+10,  -0.00000000e+00,\n",
       "        -3.19759096e+10,  -1.73927358e+10,  -0.00000000e+00,\n",
       "        -0.00000000e+00,  -0.00000000e+00,  -9.20416066e+09,\n",
       "        -0.00000000e+00,  -0.00000000e+00,  -0.00000000e+00,\n",
       "        -0.00000000e+00,  -0.00000000e+00,  -1.58355261e+10,\n",
       "        -8.68774391e+09,  -1.09790437e+10,  -1.63329883e+09,\n",
       "        -0.00000000e+00,  -8.41010459e+09,  -0.00000000e+00,\n",
       "        -6.05425551e+09,  -3.78459221e+09,  -0.00000000e+00,\n",
       "        -1.77346762e+10,  -3.86630463e+09,  -0.00000000e+00,\n",
       "        -1.65886462e+09,  -0.00000000e+00,  -0.00000000e+00,\n",
       "        -2.44372242e+10,  -2.87811648e+10,  -3.54679430e+10,\n",
       "        -0.00000000e+00,  -1.86975071e+10,  -0.00000000e+00,\n",
       "        -1.65762325e+10,  -0.00000000e+00,  -0.00000000e+00,\n",
       "        -0.00000000e+00,  -0.00000000e+00,  -0.00000000e+00,\n",
       "        -0.00000000e+00,  -3.05347124e+10,  -0.00000000e+00,\n",
       "        -1.52412865e+10,  -2.54182319e+10,  -6.40535033e+09,\n",
       "        -9.21930921e+09,  -0.00000000e+00,  -2.34582179e+10,\n",
       "        -0.00000000e+00,  -0.00000000e+00,  -0.00000000e+00,\n",
       "        -1.78733996e+10,  -3.10300791e+10,  -0.00000000e+00,\n",
       "        -1.18764988e+10,  -0.00000000e+00,  -0.00000000e+00,\n",
       "        -2.28240973e+10,  -0.00000000e+00,  -1.79178034e+10,\n",
       "        -9.21804900e+09,  -0.00000000e+00,  -0.00000000e+00,\n",
       "        -2.57322492e+10,  -0.00000000e+00,  -1.34075629e+10,\n",
       "        -0.00000000e+00,  -1.49892352e+10,  -1.38123074e+10,\n",
       "        -0.00000000e+00,  -2.42655038e+10,  -4.87331769e+08,\n",
       "        -0.00000000e+00,  -9.37188913e+09,  -1.40630055e+10,\n",
       "        -2.33835281e+10,  -9.15601545e+09,  -1.08073720e+09,\n",
       "        -0.00000000e+00,  -1.82203249e+10,  -1.50433393e+10,\n",
       "        -0.00000000e+00,  -0.00000000e+00,  -0.00000000e+00,\n",
       "        -0.00000000e+00,  -0.00000000e+00,  -0.00000000e+00,\n",
       "        -0.00000000e+00,  -1.92491628e+09,  -0.00000000e+00,\n",
       "        -0.00000000e+00,  -1.05259528e+10,  -1.66034343e+10,\n",
       "        -1.85552603e+10,  -5.44396367e+09])"
      ]
     },
     "execution_count": 52,
     "metadata": {},
     "output_type": "execute_result"
    }
   ],
   "source": [
    "rbm.score_samples(data[:200, :])"
   ]
  },
  {
   "cell_type": "code",
   "execution_count": null,
   "metadata": {
    "collapsed": true
   },
   "outputs": [],
   "source": []
  }
 ],
 "metadata": {
  "anaconda-cloud": {},
  "kernelspec": {
   "display_name": "Python [default]",
   "language": "python",
   "name": "python3"
  },
  "language_info": {
   "codemirror_mode": {
    "name": "ipython",
    "version": 3
   },
   "file_extension": ".py",
   "mimetype": "text/x-python",
   "name": "python",
   "nbconvert_exporter": "python",
   "pygments_lexer": "ipython3",
   "version": "3.5.2"
  }
 },
 "nbformat": 4,
 "nbformat_minor": 2
}
